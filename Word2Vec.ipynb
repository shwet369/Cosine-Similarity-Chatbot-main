{
  "cells": [
    {
      "cell_type": "markdown",
      "metadata": {
        "id": "view-in-github",
        "colab_type": "text"
      },
      "source": [
        "<a href=\"https://colab.research.google.com/github/shwet369/Cosine-Similarity-Chatbot-main/blob/https%2Fgithub.com%2Fshwet369%2F-_Data-science/Word2Vec.ipynb\" target=\"_parent\"><img src=\"https://colab.research.google.com/assets/colab-badge.svg\" alt=\"Open In Colab\"/></a>"
      ]
    },
    {
      "cell_type": "code",
      "execution_count": 1,
      "metadata": {
        "colab": {
          "base_uri": "https://localhost:8080/"
        },
        "id": "kg-t2aMIWx3H",
        "outputId": "322c57ae-abf5-4929-bf7b-48b25ce5e3cf"
      },
      "outputs": [
        {
          "output_type": "stream",
          "name": "stdout",
          "text": [
            "Requirement already satisfied: gensim in /usr/local/lib/python3.10/dist-packages (4.3.3)\n",
            "Requirement already satisfied: numpy<2.0,>=1.18.5 in /usr/local/lib/python3.10/dist-packages (from gensim) (1.26.4)\n",
            "Requirement already satisfied: scipy<1.14.0,>=1.7.0 in /usr/local/lib/python3.10/dist-packages (from gensim) (1.13.1)\n",
            "Requirement already satisfied: smart-open>=1.8.1 in /usr/local/lib/python3.10/dist-packages (from gensim) (7.0.5)\n",
            "Requirement already satisfied: wrapt in /usr/local/lib/python3.10/dist-packages (from smart-open>=1.8.1->gensim) (1.16.0)\n"
          ]
        }
      ],
      "source": [
        "!pip install gensim"
      ]
    },
    {
      "cell_type": "code",
      "execution_count": 2,
      "metadata": {
        "id": "q_IFFlbLW2ey"
      },
      "outputs": [],
      "source": [
        "import gensim"
      ]
    },
    {
      "cell_type": "code",
      "execution_count": 3,
      "metadata": {
        "id": "qiCrI1VaW7m0"
      },
      "outputs": [],
      "source": [
        "from gensim.models import Word2Vec, KeyedVectors"
      ]
    },
    {
      "cell_type": "code",
      "execution_count": 4,
      "metadata": {
        "colab": {
          "base_uri": "https://localhost:8080/"
        },
        "id": "IliYpkr6XWu9",
        "outputId": "4c8a1447-35e5-4c74-c0f7-8131d2c23c64"
      },
      "outputs": [
        {
          "output_type": "stream",
          "name": "stdout",
          "text": [
            "[==================================================] 100.0% 1662.8/1662.8MB downloaded\n"
          ]
        },
        {
          "output_type": "execute_result",
          "data": {
            "text/plain": [
              "<gensim.models.keyedvectors.KeyedVectors at 0x7f4d64f92ec0>"
            ]
          },
          "metadata": {},
          "execution_count": 4
        }
      ],
      "source": [
        "import gensim.downloader as api\n",
        "wv=api.load(\"word2vec-google-news-300\")\n",
        "wv"
      ]
    },
    {
      "cell_type": "code",
      "source": [
        "vec_king=wv['king']\n",
        "vec_king"
      ],
      "metadata": {
        "colab": {
          "base_uri": "https://localhost:8080/"
        },
        "id": "VnGRR1d2SxHJ",
        "outputId": "4dcc51dd-2885-4725-de6f-c6f174082656"
      },
      "execution_count": 5,
      "outputs": [
        {
          "output_type": "execute_result",
          "data": {
            "text/plain": [
              "array([ 1.25976562e-01,  2.97851562e-02,  8.60595703e-03,  1.39648438e-01,\n",
              "       -2.56347656e-02, -3.61328125e-02,  1.11816406e-01, -1.98242188e-01,\n",
              "        5.12695312e-02,  3.63281250e-01, -2.42187500e-01, -3.02734375e-01,\n",
              "       -1.77734375e-01, -2.49023438e-02, -1.67968750e-01, -1.69921875e-01,\n",
              "        3.46679688e-02,  5.21850586e-03,  4.63867188e-02,  1.28906250e-01,\n",
              "        1.36718750e-01,  1.12792969e-01,  5.95703125e-02,  1.36718750e-01,\n",
              "        1.01074219e-01, -1.76757812e-01, -2.51953125e-01,  5.98144531e-02,\n",
              "        3.41796875e-01, -3.11279297e-02,  1.04492188e-01,  6.17675781e-02,\n",
              "        1.24511719e-01,  4.00390625e-01, -3.22265625e-01,  8.39843750e-02,\n",
              "        3.90625000e-02,  5.85937500e-03,  7.03125000e-02,  1.72851562e-01,\n",
              "        1.38671875e-01, -2.31445312e-01,  2.83203125e-01,  1.42578125e-01,\n",
              "        3.41796875e-01, -2.39257812e-02, -1.09863281e-01,  3.32031250e-02,\n",
              "       -5.46875000e-02,  1.53198242e-02, -1.62109375e-01,  1.58203125e-01,\n",
              "       -2.59765625e-01,  2.01416016e-02, -1.63085938e-01,  1.35803223e-03,\n",
              "       -1.44531250e-01, -5.68847656e-02,  4.29687500e-02, -2.46582031e-02,\n",
              "        1.85546875e-01,  4.47265625e-01,  9.58251953e-03,  1.31835938e-01,\n",
              "        9.86328125e-02, -1.85546875e-01, -1.00097656e-01, -1.33789062e-01,\n",
              "       -1.25000000e-01,  2.83203125e-01,  1.23046875e-01,  5.32226562e-02,\n",
              "       -1.77734375e-01,  8.59375000e-02, -2.18505859e-02,  2.05078125e-02,\n",
              "       -1.39648438e-01,  2.51464844e-02,  1.38671875e-01, -1.05468750e-01,\n",
              "        1.38671875e-01,  8.88671875e-02, -7.51953125e-02, -2.13623047e-02,\n",
              "        1.72851562e-01,  4.63867188e-02, -2.65625000e-01,  8.91113281e-03,\n",
              "        1.49414062e-01,  3.78417969e-02,  2.38281250e-01, -1.24511719e-01,\n",
              "       -2.17773438e-01, -1.81640625e-01,  2.97851562e-02,  5.71289062e-02,\n",
              "       -2.89306641e-02,  1.24511719e-02,  9.66796875e-02, -2.31445312e-01,\n",
              "        5.81054688e-02,  6.68945312e-02,  7.08007812e-02, -3.08593750e-01,\n",
              "       -2.14843750e-01,  1.45507812e-01, -4.27734375e-01, -9.39941406e-03,\n",
              "        1.54296875e-01, -7.66601562e-02,  2.89062500e-01,  2.77343750e-01,\n",
              "       -4.86373901e-04, -1.36718750e-01,  3.24218750e-01, -2.46093750e-01,\n",
              "       -3.03649902e-03, -2.11914062e-01,  1.25000000e-01,  2.69531250e-01,\n",
              "        2.04101562e-01,  8.25195312e-02, -2.01171875e-01, -1.60156250e-01,\n",
              "       -3.78417969e-02, -1.20117188e-01,  1.15234375e-01, -4.10156250e-02,\n",
              "       -3.95507812e-02, -8.98437500e-02,  6.34765625e-03,  2.03125000e-01,\n",
              "        1.86523438e-01,  2.73437500e-01,  6.29882812e-02,  1.41601562e-01,\n",
              "       -9.81445312e-02,  1.38671875e-01,  1.82617188e-01,  1.73828125e-01,\n",
              "        1.73828125e-01, -2.37304688e-01,  1.78710938e-01,  6.34765625e-02,\n",
              "        2.36328125e-01, -2.08984375e-01,  8.74023438e-02, -1.66015625e-01,\n",
              "       -7.91015625e-02,  2.43164062e-01, -8.88671875e-02,  1.26953125e-01,\n",
              "       -2.16796875e-01, -1.73828125e-01, -3.59375000e-01, -8.25195312e-02,\n",
              "       -6.49414062e-02,  5.07812500e-02,  1.35742188e-01, -7.47070312e-02,\n",
              "       -1.64062500e-01,  1.15356445e-02,  4.45312500e-01, -2.15820312e-01,\n",
              "       -1.11328125e-01, -1.92382812e-01,  1.70898438e-01, -1.25000000e-01,\n",
              "        2.65502930e-03,  1.92382812e-01, -1.74804688e-01,  1.39648438e-01,\n",
              "        2.92968750e-01,  1.13281250e-01,  5.95703125e-02, -6.39648438e-02,\n",
              "        9.96093750e-02, -2.72216797e-02,  1.96533203e-02,  4.27246094e-02,\n",
              "       -2.46093750e-01,  6.39648438e-02, -2.25585938e-01, -1.68945312e-01,\n",
              "        2.89916992e-03,  8.20312500e-02,  3.41796875e-01,  4.32128906e-02,\n",
              "        1.32812500e-01,  1.42578125e-01,  7.61718750e-02,  5.98144531e-02,\n",
              "       -1.19140625e-01,  2.74658203e-03, -6.29882812e-02, -2.72216797e-02,\n",
              "       -4.82177734e-03, -8.20312500e-02, -2.49023438e-02, -4.00390625e-01,\n",
              "       -1.06933594e-01,  4.24804688e-02,  7.76367188e-02, -1.16699219e-01,\n",
              "        7.37304688e-02, -9.22851562e-02,  1.07910156e-01,  1.58203125e-01,\n",
              "        4.24804688e-02,  1.26953125e-01,  3.61328125e-02,  2.67578125e-01,\n",
              "       -1.01074219e-01, -3.02734375e-01, -5.76171875e-02,  5.05371094e-02,\n",
              "        5.26428223e-04, -2.07031250e-01, -1.38671875e-01, -8.97216797e-03,\n",
              "       -2.78320312e-02, -1.41601562e-01,  2.07031250e-01, -1.58203125e-01,\n",
              "        1.27929688e-01,  1.49414062e-01, -2.24609375e-02, -8.44726562e-02,\n",
              "        1.22558594e-01,  2.15820312e-01, -2.13867188e-01, -3.12500000e-01,\n",
              "       -3.73046875e-01,  4.08935547e-03,  1.07421875e-01,  1.06933594e-01,\n",
              "        7.32421875e-02,  8.97216797e-03, -3.88183594e-02, -1.29882812e-01,\n",
              "        1.49414062e-01, -2.14843750e-01, -1.83868408e-03,  9.91210938e-02,\n",
              "        1.57226562e-01, -1.14257812e-01, -2.05078125e-01,  9.91210938e-02,\n",
              "        3.69140625e-01, -1.97265625e-01,  3.54003906e-02,  1.09375000e-01,\n",
              "        1.31835938e-01,  1.66992188e-01,  2.35351562e-01,  1.04980469e-01,\n",
              "       -4.96093750e-01, -1.64062500e-01, -1.56250000e-01, -5.22460938e-02,\n",
              "        1.03027344e-01,  2.43164062e-01, -1.88476562e-01,  5.07812500e-02,\n",
              "       -9.37500000e-02, -6.68945312e-02,  2.27050781e-02,  7.61718750e-02,\n",
              "        2.89062500e-01,  3.10546875e-01, -5.37109375e-02,  2.28515625e-01,\n",
              "        2.51464844e-02,  6.78710938e-02, -1.21093750e-01, -2.15820312e-01,\n",
              "       -2.73437500e-01, -3.07617188e-02, -3.37890625e-01,  1.53320312e-01,\n",
              "        2.33398438e-01, -2.08007812e-01,  3.73046875e-01,  8.20312500e-02,\n",
              "        2.51953125e-01, -7.61718750e-02, -4.66308594e-02, -2.23388672e-02,\n",
              "        2.99072266e-02, -5.93261719e-02, -4.66918945e-03, -2.44140625e-01,\n",
              "       -2.09960938e-01, -2.87109375e-01, -4.54101562e-02, -1.77734375e-01,\n",
              "       -2.79296875e-01, -8.59375000e-02,  9.13085938e-02,  2.51953125e-01],\n",
              "      dtype=float32)"
            ]
          },
          "metadata": {},
          "execution_count": 5
        }
      ]
    },
    {
      "cell_type": "code",
      "execution_count": 8,
      "metadata": {
        "id": "AbTJZCfNXrIe",
        "colab": {
          "base_uri": "https://localhost:8080/"
        },
        "outputId": "513cdfbf-5279-4481-ff63-4e54ccec9a3a"
      },
      "outputs": [
        {
          "output_type": "execute_result",
          "data": {
            "text/plain": [
              "(300,)"
            ]
          },
          "metadata": {},
          "execution_count": 8
        }
      ],
      "source": [
        "vec_king.shape  # on 300 contextual feature the model is trained"
      ]
    },
    {
      "cell_type": "code",
      "source": [
        "wv.similarity('king','queen')  # cosine similairt two words\n",
        "#wv.similarity('good','best')"
      ],
      "metadata": {
        "colab": {
          "base_uri": "https://localhost:8080/"
        },
        "id": "dkvsqSNI5a_E",
        "outputId": "a1d6bcba-c152-4556-bac2-9f39ef619de0"
      },
      "execution_count": 11,
      "outputs": [
        {
          "output_type": "execute_result",
          "data": {
            "text/plain": [
              "0.6510956"
            ]
          },
          "metadata": {},
          "execution_count": 11
        }
      ]
    },
    {
      "cell_type": "code",
      "source": [
        "#wv.similarity()\n",
        "#wv.similarity('word1', 'word2')  # Replace 'word1' and 'word2' with the actual words you want to compare\n",
        "wv.similarity('better', 'good')"
      ],
      "metadata": {
        "id": "c_TVe207VnLw",
        "outputId": "66802199-b694-470b-8de0-2f4cdea4ca0a",
        "colab": {
          "base_uri": "https://localhost:8080/"
        }
      },
      "execution_count": 25,
      "outputs": [
        {
          "output_type": "execute_result",
          "data": {
            "text/plain": [
              "0.6120728"
            ]
          },
          "metadata": {},
          "execution_count": 25
        }
      ]
    },
    {
      "cell_type": "markdown",
      "source": [
        "- take the king vector seperately\n",
        "\n",
        "- also queen vector\n",
        "\n",
        "- Will perform the Cosine similarity"
      ],
      "metadata": {
        "id": "EnHgCnR3UeW3"
      }
    },
    {
      "cell_type": "code",
      "source": [
        "vec_king=wv['king']\n",
        "vec_queen=wv['queen']"
      ],
      "metadata": {
        "id": "I15vzsOo5mfA"
      },
      "execution_count": null,
      "outputs": []
    },
    {
      "cell_type": "markdown",
      "source": [
        "![image.png](data:image/png;base64,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)"
      ],
      "metadata": {
        "id": "s2N48H_56bCA"
      }
    },
    {
      "cell_type": "code",
      "source": [
        "# import required libraries\n",
        "import numpy as np\n",
        "from numpy.linalg import norm\n",
        "\n",
        "# define two lists or arra\n",
        "\n",
        "# compute cosine similarity\n",
        "cosine = np.dot(vec_king,vec_queen)/(norm(vec_king)*norm(vec_queen))\n",
        "print(\"Cosine Similarity:\", cosine)"
      ],
      "metadata": {
        "colab": {
          "base_uri": "https://localhost:8080/"
        },
        "id": "Xa8yoU6M6HYh",
        "outputId": "2252bea4-e1ec-45ac-fd59-f20cb942cfc6"
      },
      "execution_count": null,
      "outputs": [
        {
          "output_type": "stream",
          "name": "stdout",
          "text": [
            "Cosine Similarity: 0.6510956\n"
          ]
        }
      ]
    },
    {
      "cell_type": "code",
      "source": [
        "wv.most_similar('king')"
      ],
      "metadata": {
        "colab": {
          "base_uri": "https://localhost:8080/"
        },
        "id": "9O48wsF76lPe",
        "outputId": "b3fa4b25-01ae-4846-e9d2-f55164d01d27"
      },
      "execution_count": null,
      "outputs": [
        {
          "output_type": "execute_result",
          "data": {
            "text/plain": [
              "[('kings', 0.7138045430183411),\n",
              " ('queen', 0.6510956883430481),\n",
              " ('monarch', 0.6413194537162781),\n",
              " ('crown_prince', 0.6204220056533813),\n",
              " ('prince', 0.6159993410110474),\n",
              " ('sultan', 0.5864824056625366),\n",
              " ('ruler', 0.5797567367553711),\n",
              " ('princes', 0.5646552443504333),\n",
              " ('Prince_Paras', 0.5432944297790527),\n",
              " ('throne', 0.5422105193138123)]"
            ]
          },
          "metadata": {},
          "execution_count": 12
        }
      ]
    },
    {
      "cell_type": "code",
      "source": [
        "wv.most_similar('Telanagana')"
      ],
      "metadata": {
        "id": "GbPjHGxz60sM",
        "colab": {
          "base_uri": "https://localhost:8080/"
        },
        "outputId": "db2d42d4-2ed8-47b5-9174-caa578ab799e"
      },
      "execution_count": null,
      "outputs": [
        {
          "output_type": "execute_result",
          "data": {
            "text/plain": [
              "[('Telangana', 0.7098552584648132),\n",
              " ('Telengana', 0.7074891328811646),\n",
              " ('Seema_Andhra', 0.6626746654510498),\n",
              " ('Telangana_protagonists', 0.6453095078468323),\n",
              " ('TDP_politburo_member', 0.6418837308883667),\n",
              " ('Madhu_Yashki', 0.6368694305419922),\n",
              " ('Telangana_JAC', 0.6334327459335327),\n",
              " ('Telangana_Rashtra_Samiti', 0.6320290565490723),\n",
              " ('Telangana_Rashtra_Samithi', 0.6315802335739136),\n",
              " ('Rayalseema', 0.6294906735420227)]"
            ]
          },
          "metadata": {},
          "execution_count": 13
        }
      ]
    },
    {
      "cell_type": "code",
      "source": [
        "wv.most_similar('moye moye') # It is not in the list"
      ],
      "metadata": {
        "colab": {
          "base_uri": "https://localhost:8080/",
          "height": 287
        },
        "id": "PDTu5QxTD1rA",
        "outputId": "7371577d-dab4-434d-8484-ef6aa5390a06"
      },
      "execution_count": null,
      "outputs": [
        {
          "output_type": "error",
          "ename": "KeyError",
          "evalue": "\"Key 'moye moye' not present in vocabulary\"",
          "traceback": [
            "\u001b[0;31m---------------------------------------------------------------------------\u001b[0m",
            "\u001b[0;31mKeyError\u001b[0m                                  Traceback (most recent call last)",
            "\u001b[0;32m<ipython-input-15-af791b218a02>\u001b[0m in \u001b[0;36m<cell line: 1>\u001b[0;34m()\u001b[0m\n\u001b[0;32m----> 1\u001b[0;31m \u001b[0mwv\u001b[0m\u001b[0;34m.\u001b[0m\u001b[0mmost_similar\u001b[0m\u001b[0;34m(\u001b[0m\u001b[0;34m'moye moye'\u001b[0m\u001b[0;34m)\u001b[0m\u001b[0;34m\u001b[0m\u001b[0;34m\u001b[0m\u001b[0m\n\u001b[0m",
            "\u001b[0;32m/usr/local/lib/python3.10/dist-packages/gensim/models/keyedvectors.py\u001b[0m in \u001b[0;36mmost_similar\u001b[0;34m(self, positive, negative, topn, clip_start, clip_end, restrict_vocab, indexer)\u001b[0m\n\u001b[1;32m    839\u001b[0m \u001b[0;34m\u001b[0m\u001b[0m\n\u001b[1;32m    840\u001b[0m         \u001b[0;31m# compute the weighted average of all keys\u001b[0m\u001b[0;34m\u001b[0m\u001b[0;34m\u001b[0m\u001b[0m\n\u001b[0;32m--> 841\u001b[0;31m         \u001b[0mmean\u001b[0m \u001b[0;34m=\u001b[0m \u001b[0mself\u001b[0m\u001b[0;34m.\u001b[0m\u001b[0mget_mean_vector\u001b[0m\u001b[0;34m(\u001b[0m\u001b[0mkeys\u001b[0m\u001b[0;34m,\u001b[0m \u001b[0mweight\u001b[0m\u001b[0;34m,\u001b[0m \u001b[0mpre_normalize\u001b[0m\u001b[0;34m=\u001b[0m\u001b[0;32mTrue\u001b[0m\u001b[0;34m,\u001b[0m \u001b[0mpost_normalize\u001b[0m\u001b[0;34m=\u001b[0m\u001b[0;32mTrue\u001b[0m\u001b[0;34m,\u001b[0m \u001b[0mignore_missing\u001b[0m\u001b[0;34m=\u001b[0m\u001b[0;32mFalse\u001b[0m\u001b[0;34m)\u001b[0m\u001b[0;34m\u001b[0m\u001b[0;34m\u001b[0m\u001b[0m\n\u001b[0m\u001b[1;32m    842\u001b[0m         all_keys = [\n\u001b[1;32m    843\u001b[0m             \u001b[0mself\u001b[0m\u001b[0;34m.\u001b[0m\u001b[0mget_index\u001b[0m\u001b[0;34m(\u001b[0m\u001b[0mkey\u001b[0m\u001b[0;34m)\u001b[0m \u001b[0;32mfor\u001b[0m \u001b[0mkey\u001b[0m \u001b[0;32min\u001b[0m \u001b[0mkeys\u001b[0m \u001b[0;32mif\u001b[0m \u001b[0misinstance\u001b[0m\u001b[0;34m(\u001b[0m\u001b[0mkey\u001b[0m\u001b[0;34m,\u001b[0m \u001b[0m_KEY_TYPES\u001b[0m\u001b[0;34m)\u001b[0m \u001b[0;32mand\u001b[0m \u001b[0mself\u001b[0m\u001b[0;34m.\u001b[0m\u001b[0mhas_index_for\u001b[0m\u001b[0;34m(\u001b[0m\u001b[0mkey\u001b[0m\u001b[0;34m)\u001b[0m\u001b[0;34m\u001b[0m\u001b[0;34m\u001b[0m\u001b[0m\n",
            "\u001b[0;32m/usr/local/lib/python3.10/dist-packages/gensim/models/keyedvectors.py\u001b[0m in \u001b[0;36mget_mean_vector\u001b[0;34m(self, keys, weights, pre_normalize, post_normalize, ignore_missing)\u001b[0m\n\u001b[1;32m    516\u001b[0m                 \u001b[0mtotal_weight\u001b[0m \u001b[0;34m+=\u001b[0m \u001b[0mabs\u001b[0m\u001b[0;34m(\u001b[0m\u001b[0mweights\u001b[0m\u001b[0;34m[\u001b[0m\u001b[0midx\u001b[0m\u001b[0;34m]\u001b[0m\u001b[0;34m)\u001b[0m\u001b[0;34m\u001b[0m\u001b[0;34m\u001b[0m\u001b[0m\n\u001b[1;32m    517\u001b[0m             \u001b[0;32melif\u001b[0m \u001b[0;32mnot\u001b[0m \u001b[0mignore_missing\u001b[0m\u001b[0;34m:\u001b[0m\u001b[0;34m\u001b[0m\u001b[0;34m\u001b[0m\u001b[0m\n\u001b[0;32m--> 518\u001b[0;31m                 \u001b[0;32mraise\u001b[0m \u001b[0mKeyError\u001b[0m\u001b[0;34m(\u001b[0m\u001b[0;34mf\"Key '{key}' not present in vocabulary\"\u001b[0m\u001b[0;34m)\u001b[0m\u001b[0;34m\u001b[0m\u001b[0;34m\u001b[0m\u001b[0m\n\u001b[0m\u001b[1;32m    519\u001b[0m \u001b[0;34m\u001b[0m\u001b[0m\n\u001b[1;32m    520\u001b[0m         \u001b[0;32mif\u001b[0m \u001b[0mtotal_weight\u001b[0m \u001b[0;34m>\u001b[0m \u001b[0;36m0\u001b[0m\u001b[0;34m:\u001b[0m\u001b[0;34m\u001b[0m\u001b[0;34m\u001b[0m\u001b[0m\n",
            "\u001b[0;31mKeyError\u001b[0m: \"Key 'moye moye' not present in vocabulary\""
          ]
        }
      ]
    },
    {
      "cell_type": "code",
      "source": [],
      "metadata": {
        "id": "hTlWLsKIEhEw"
      },
      "execution_count": null,
      "outputs": []
    }
  ],
  "metadata": {
    "colab": {
      "provenance": [],
      "gpuType": "T4",
      "include_colab_link": true
    },
    "kernelspec": {
      "display_name": "Python 3",
      "name": "python3"
    },
    "language_info": {
      "name": "python"
    },
    "accelerator": "GPU"
  },
  "nbformat": 4,
  "nbformat_minor": 0
}